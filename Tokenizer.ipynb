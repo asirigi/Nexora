{
 "cells": [
  {
   "cell_type": "code",
   "execution_count": 2,
   "id": "e4063176",
   "metadata": {},
   "outputs": [
    {
     "name": "stdout",
     "output_type": "stream",
     "text": [
      "5\n"
     ]
    }
   ],
   "source": [
    "from transformers import AutoTokenizer\n",
    "\n",
    "tokenizer = AutoTokenizer.from_pretrained(\"BAAI/bge-base-en-v1.5\")\n",
    "tokens = tokenizer.encode(\"Hello world!\")\n",
    "print(len(tokens))  # [101, 7592, 2088, 999, 102]\n"
   ]
  },
  {
   "cell_type": "code",
   "execution_count": null,
   "id": "44605552",
   "metadata": {},
   "outputs": [],
   "source": [
    "from typing import List\n",
    "import nltk\n",
    "from transformers import AutoTokenizer\n",
    "\n",
    "nltk.download('punkt')  # For sentence tokenization\n",
    "\n",
    "def chunk_text_for_embedding(\n",
    "    text: str,\n",
    "    model_name: str = \"BAAI/bge-base-en-v1.5\",\n",
    "    max_tokens: int = 512,\n",
    "    buffer_tokens: int = 20\n",
    ") -> List[str]:\n",
    "    \"\"\"\n",
    "    Splits input text into chunks that fit within the embedding model's token limit.\n",
    "\n",
    "    Args:\n",
    "        text: The input text.\n",
    "        model_name: Name of the HuggingFace model to load the tokenizer.\n",
    "        max_tokens: Max tokens allowed per chunk.\n",
    "        buffer_tokens: Safety margin for tokenizer variations.\n",
    "\n",
    "    Returns:\n",
    "        List of text chunks, each within token limits.\n",
    "    \"\"\"\n",
    "    tokenizer = AutoTokenizer.from_pretrained(model_name)\n",
    "    sentences = nltk.sent_tokenize(text)\n",
    "    \n",
    "    chunks = []\n",
    "    current_chunk = []\n",
    "    current_tokens = 0\n",
    "\n",
    "    for sentence in sentences:\n",
    "        token_count = len(tokenizer.encode(sentence, add_special_tokens=False))\n",
    "        if current_tokens + token_count <= max_tokens - buffer_tokens:\n",
    "            current_chunk.append(sentence)\n",
    "            current_tokens += token_count\n",
    "        else:\n",
    "            chunks.append(\" \".join(current_chunk))\n",
    "            current_chunk = [sentence]\n",
    "            current_tokens = token_count\n",
    "\n",
    "    # Append last chunk\n",
    "    if current_chunk:\n",
    "        chunks.append(\" \".join(current_chunk))\n",
    "    \n",
    "    return chunks\n"
   ]
  }
 ],
 "metadata": {
  "kernelspec": {
   "display_name": ".nexora_venv",
   "language": "python",
   "name": "python3"
  },
  "language_info": {
   "codemirror_mode": {
    "name": "ipython",
    "version": 3
   },
   "file_extension": ".py",
   "mimetype": "text/x-python",
   "name": "python",
   "nbconvert_exporter": "python",
   "pygments_lexer": "ipython3",
   "version": "3.10.0"
  }
 },
 "nbformat": 4,
 "nbformat_minor": 5
}
